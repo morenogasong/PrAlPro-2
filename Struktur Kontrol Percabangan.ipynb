{
  "nbformat": 4,
  "nbformat_minor": 0,
  "metadata": {
    "colab": {
      "provenance": []
    },
    "kernelspec": {
      "name": "python3",
      "display_name": "Python 3"
    },
    "language_info": {
      "name": "python"
    }
  },
  "cells": [
    {
      "cell_type": "markdown",
      "source": [
        "**Latihan 3.1** Implementasikan penanganan kesalahan input pengguna dari program-program pada Contoh 3.1, 3.2 dan 3.3."
      ],
      "metadata": {
        "id": "olm4mhSygFfi"
      }
    },
    {
      "cell_type": "markdown",
      "source": [
        "Contoh 3.1\n"
      ],
      "metadata": {
        "id": "X18uOVZpgVkt"
      }
    },
    {
      "cell_type": "code",
      "source": [
        "try:\n",
        "    suhu = int(input(\"Masukkan suhu tubuh: \"))\n",
        "    if suhu >= 38:\n",
        "        print(\"Anda demam\")\n",
        "    else:\n",
        "        print(\"Anda tidak demam\")\n",
        "except:\n",
        "    print(\"Anda salah memasukkan input suhu tubuh\")"
      ],
      "metadata": {
        "colab": {
          "base_uri": "https://localhost:8080/"
        },
        "id": "mUNoBh4IgX2Q",
        "outputId": "18a0846a-c3a4-4b47-ab1f-f0543bb1e657"
      },
      "execution_count": 2,
      "outputs": [
        {
          "output_type": "stream",
          "name": "stdout",
          "text": [
            "Masukkan suhu tubuh: tigadelapan\n",
            "Anda salah memasukkan input suhu tubuh\n"
          ]
        }
      ]
    },
    {
      "cell_type": "markdown",
      "source": [
        "Contoh 3.2\n"
      ],
      "metadata": {
        "id": "_Y_CGKKUgo2u"
      }
    },
    {
      "cell_type": "code",
      "source": [
        "try:\n",
        "    bilangan = int(input(\"Masukkan suatu bilangan: \"))\n",
        "    if bilangan > 0:\n",
        "        print(\"Positif\")\n",
        "    elif bilangan < 0:\n",
        "        print(\"Negatif\")\n",
        "    elif bilangan == 0:\n",
        "        print(\"Nol\")\n",
        "except:\n",
        "    print(\"Anda salah memasukkan input bilangan\")"
      ],
      "metadata": {
        "colab": {
          "base_uri": "https://localhost:8080/"
        },
        "id": "5sPPBy8Ygq1H",
        "outputId": "a7047a36-9a5a-4a3f-a659-8dc85d6eb9d3"
      },
      "execution_count": 3,
      "outputs": [
        {
          "output_type": "stream",
          "name": "stdout",
          "text": [
            "Masukkan suatu bilangan: dua\n",
            "Anda salah memasukkan input bilangan\n"
          ]
        }
      ]
    },
    {
      "cell_type": "markdown",
      "source": [
        "Contoh 3.3\n"
      ],
      "metadata": {
        "id": "0mCSpcvpg1qo"
      }
    },
    {
      "cell_type": "code",
      "source": [
        "try:\n",
        "# input a, b dan c\n",
        "    a = int(input(\"Masukkan bilangan pertama: \"))\n",
        "    b = int(input(\"Masukkan bilangan kedua: \"))\n",
        "    c = int(input(\"Masukkan bilangan ketiga: \"))\n",
        "\n",
        "# secara berurutan tulis kriteria untuk a, b, dan c\n",
        "    if a > b and a > c:\n",
        "        print(\"Terbesar: \", a)\n",
        "    elif b > a and b > c:\n",
        "        print(\"Terbesar: \", b)\n",
        "    elif c > a and c > b:\n",
        "        print(\"Terbesar: \", c)\n",
        "except:\n",
        "    print(\"Anda salah memasukkan input bilangan\")\n"
      ],
      "metadata": {
        "colab": {
          "base_uri": "https://localhost:8080/"
        },
        "id": "QHeZB7KIg3DC",
        "outputId": "19247df1-9735-4c22-f738-722d67109025"
      },
      "execution_count": 4,
      "outputs": [
        {
          "output_type": "stream",
          "name": "stdout",
          "text": [
            "Masukkan bilangan pertama: 3\n",
            "Masukkan bilangan kedua: 4\n",
            "Masukkan bilangan ketiga: dua\n",
            "Anda salah memasukkan input bilangan\n"
          ]
        }
      ]
    },
    {
      "cell_type": "markdown",
      "source": [
        "**Latihan 3.2** Implementasikan percabangan pada Contoh 3.2 (Positif-Negatif) menggunakan ternary operator."
      ],
      "metadata": {
        "id": "ZA1eHza5hAqc"
      }
    },
    {
      "cell_type": "code",
      "source": [
        "bilangan = int(input(\"Masukkan suatu bilangan: \"))\n",
        "\n",
        "print(\"Positif\") if bilangan > 0 else print(\"Negatif\") if bilangan < 0 else print(\"Nol\")"
      ],
      "metadata": {
        "colab": {
          "base_uri": "https://localhost:8080/"
        },
        "id": "s4eSgXhQhkvk",
        "outputId": "42cfaf48-1464-4daf-aa49-78c1242e1289"
      },
      "execution_count": 5,
      "outputs": [
        {
          "output_type": "stream",
          "name": "stdout",
          "text": [
            "Masukkan suatu bilangan: 12\n",
            "Positif\n"
          ]
        }
      ]
    },
    {
      "cell_type": "markdown",
      "source": [
        "**Latihan 3.3** Buatlah sebuah program yang dapat menampilkan jumlah hari dalam suatu bulan di tahun 2020. Program meminta pengguna memasukkan nomor bulan (1-12), kemudian program akan menampilkan jumlah hari pada bulan tersebut. Sebagai contoh, perhatikan input dan output berikut ini:\n",
        "\n",
        "\n",
        "*Masukkan bulan (1-12): 7*\n",
        "\n",
        "*Jumlah hari: 31*\n",
        "\n",
        "Lengkapi program tersebut dengan penanganan kesalahan jika pengguna memasukkan bulan yang salah. Penanganan kesalahan dalam bentuk memunculkan pesan bahwa bulan yang diinputkan oleh pengguna tersebut tidak valid.\n"
      ],
      "metadata": {
        "id": "UITqUfZchvDM"
      }
    },
    {
      "cell_type": "code",
      "source": [
        "try:\n",
        "    month = int(input(\"Silahkan masukkan angka bulan : \"))\n",
        "\n",
        "    if month == 1:\n",
        "        print(\"Jumlah hari = 31\")\n",
        "    elif month == 2:\n",
        "        print(\"Jumlah hari = 29\")\n",
        "    elif month == 3:\n",
        "        print(\"Jumlah hari = 31\")\n",
        "    elif month == 4:\n",
        "        print(\"Jumlah hari = 30\")\n",
        "    elif month == 5:\n",
        "        print(\"Jumlah hari = 31\")\n",
        "    elif month == 6:\n",
        "        print(\"Jumlah hari = 30\")\n",
        "    elif month == 7:\n",
        "        print(\"Jumlah hari = 31\")\n",
        "    elif month == 8:\n",
        "        print(\"Jumlah hari = 31\")\n",
        "    elif month == 9:\n",
        "        print(\"Jumlah hari = 30\")\n",
        "    elif month == 10:\n",
        "        print(\"Jumlah hari = 31\")\n",
        "    elif month == 11:\n",
        "        print(\"Jumlah hari = 30\")\n",
        "    elif month == 12:\n",
        "        print(\"Jumlah hari = 31\")\n",
        "    else:\n",
        "        print(\"Anda memasukkan bulan yang salah\")\n",
        "except:\n",
        "    print(\"Anda salah memasukkan input\")"
      ],
      "metadata": {
        "colab": {
          "base_uri": "https://localhost:8080/"
        },
        "id": "9O1YzXIRiCj2",
        "outputId": "dc321190-dceb-4954-91a4-1e994cb73efc"
      },
      "execution_count": 7,
      "outputs": [
        {
          "output_type": "stream",
          "name": "stdout",
          "text": [
            "Silahkan masukkan angka bulan : 10\n",
            "Jumlah hari = 31\n"
          ]
        }
      ]
    },
    {
      "cell_type": "markdown",
      "source": [
        "**Latihan 3.4** Sebuah program meminta pengguna memasukkan ketiga panjang sisi suatu segitiga (berarti pengguna memasukkan tiga bilangan). Jika ketiga sisi segitiga tersebut semuanya sama, tampilkan pesan: \"3 sisi sama\". Jika hanya ada dua sisi yang sama panjang, tampilkan pesan \"2 sisi sama\". Jika tidak ada yang sama maka tampilkan pesan: \"Tidak ada yang sama\". Sebagai contoh, perhatikan input dan output berikut ini:\n",
        "\n",
        ".\n",
        "\n",
        "\n",
        "Masukkan sisi 1: 14\n",
        "\n",
        "Masukkan sisi 2: 18\n",
        "\n",
        "Masukkan sisi 3: 11\n",
        "\n",
        "Tidak ada yang sama\n",
        "\n",
        ".\n",
        "\n",
        "Masukkan sisi 1: 22\n",
        "\n",
        "Masukkan sisi 2: 22\n",
        "\n",
        "Masukkan sisi 3: 22\n",
        "\n",
        "3 sisi sama\n",
        "\n",
        ".\n",
        "\n",
        "Masukkan sisi 1: 8\n",
        "\n",
        "Masukkan sisi 2: 9\n",
        "\n",
        "Masukkan sisi 3: 8\n",
        "\n",
        "2 sisi sama\n",
        "\n",
        ".\n",
        "\n",
        "Lengkapi program tersebut dengan penanganan kesalahan jika pengguna memasukkan input yang tidak valid.\n"
      ],
      "metadata": {
        "id": "wjfX3K4MiVHa"
      }
    },
    {
      "cell_type": "code",
      "source": [
        "try:\n",
        "    sisisatu = float(input(\"Masukkan panjang sisi 1: \"))\n",
        "    sisidua = float(input(\"Masukkan panjang sisi 2: \"))\n",
        "    sisitiga = float(input(\"Masukkan panjang sisi 3: \"))\n",
        "\n",
        "    if sisisatu == sisidua == sisitiga:\n",
        "        print(\"3 sisi sama\")\n",
        "    elif sisisatu == sisidua or sisisatu == sisitiga or sisidua == sisitiga:\n",
        "        print(\"2 sisi sama\")\n",
        "    else:\n",
        "        print(\"Tidak ada yang sama\")\n",
        "except:\n",
        "    print(\"Input tidak valid. Masukkan angka.\")\n"
      ],
      "metadata": {
        "colab": {
          "base_uri": "https://localhost:8080/"
        },
        "id": "i8-_K0FSisf7",
        "outputId": "40583d28-215b-44de-b55c-59f1e91e2b8b"
      },
      "execution_count": 8,
      "outputs": [
        {
          "output_type": "stream",
          "name": "stdout",
          "text": [
            "Masukkan panjang sisi 1: 2\n",
            "Masukkan panjang sisi 2: 4\n",
            "Masukkan panjang sisi 3: 2\n",
            "2 sisi sama\n"
          ]
        }
      ]
    }
  ]
}